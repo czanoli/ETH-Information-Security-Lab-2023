{
  "nbformat": 4,
  "nbformat_minor": 0,
  "metadata": {
    "colab": {
      "provenance": [],
      "gpuType": "T4"
    },
    "kernelspec": {
      "name": "python3",
      "display_name": "Python 3"
    },
    "language_info": {
      "name": "python"
    },
    "accelerator": "GPU"
  },
  "cells": [
    {
      "cell_type": "markdown",
      "source": [
        "#Setup"
      ],
      "metadata": {
        "id": "6xO-XBsYMOiR"
      }
    },
    {
      "cell_type": "code",
      "source": [
        "use_gdrive = True # @param {type:\"boolean\"}\n",
        "\n",
        "RESULTS_PATH = \"results1\"\n",
        "\n",
        "if use_gdrive:\n",
        "  try:\n",
        "    # mount your google drive to get permanent storage for your results\n",
        "    from google.colab import drive\n",
        "    drive.mount('/content/drive')\n",
        "\n",
        "    RESULTS_PATH = \"/content/drive/MyDrive/infoseclab23/results1\"\n",
        "  except ModuleNotFoundError:\n",
        "    print(\"failed to mount gdrive\")\n",
        "else:\n",
        "  print(f\"saving results to '{RESULTS_PATH}'. If you're using Google Colab, this folder will be deleted when you disconnect!\")\n",
        "\n",
        "!mkdir -p {RESULTS_PATH}"
      ],
      "metadata": {
        "id": "BHkSCcGWfkls",
        "colab": {
          "base_uri": "https://localhost:8080/"
        },
        "outputId": "dc2eb895-c3d1-42cd-db1f-bf1ebbaaf18f"
      },
      "execution_count": 25,
      "outputs": [
        {
          "output_type": "stream",
          "name": "stdout",
          "text": [
            "Drive already mounted at /content/drive; to attempt to forcibly remount, call drive.mount(\"/content/drive\", force_remount=True).\n"
          ]
        }
      ]
    },
    {
      "cell_type": "code",
      "execution_count": 26,
      "metadata": {
        "id": "aCjvBq6rL0n1",
        "colab": {
          "base_uri": "https://localhost:8080/"
        },
        "outputId": "cff445ff-131c-4466-c8e8-8f4a2f7be14b"
      },
      "outputs": [
        {
          "output_type": "stream",
          "name": "stdout",
          "text": [
            "/content/infoseclab_23\n",
            "From https://github.com/ethz-spylab/infoseclab_23\n",
            " * branch            HEAD       -> FETCH_HEAD\n",
            "Already up to date.\n",
            "/content\n"
          ]
        }
      ],
      "source": [
        "import sys\n",
        "\n",
        "# Lab files\n",
        "![ ! -d 'infoseclab_23' ] && git clone https://github.com/ethz-spylab/infoseclab_23.git\n",
        "%cd infoseclab_23\n",
        "!git pull https://github.com/ethz-spylab/infoseclab_23.git\n",
        "%cd ..\n",
        "if \"infoseclab_23\" not in sys.path:\n",
        "  sys.path.append(\"infoseclab_23\")"
      ]
    },
    {
      "cell_type": "markdown",
      "source": [
        "#Imports"
      ],
      "metadata": {
        "id": "LXC5q0RvNhhh"
      }
    },
    {
      "cell_type": "code",
      "source": [
        "import torch\n",
        "import numpy as np\n",
        "import infoseclab\n",
        "from infoseclab import defenses, ImageNet, EPSILON, utils, evaluation\n",
        "import os\n",
        "from zipfile import ZipFile\n",
        "\n",
        "device = \"cuda\""
      ],
      "metadata": {
        "id": "Uwi_QoU9Nguf"
      },
      "execution_count": 27,
      "outputs": []
    },
    {
      "cell_type": "markdown",
      "source": [
        "# 0.&nbsp; A quick primer on constrained optimization in PyTorch\n",
        "\n",
        "To get a feel for how to optimize functions in PyTorch over a domain, below we solve a simple 1-dimensional function mimization problem.\n",
        "\n",
        "We want to find the minimum of $f(x)$ under the constraint $x \\in [-1, 1]$.\n",
        "\n",
        "(the actual minimimum is at $x=\\sqrt{2/3} \\approx 0.8165$ and has value $f(x) \\approx -6.089$)."
      ],
      "metadata": {
        "id": "KHhM612yjnBu"
      }
    },
    {
      "cell_type": "code",
      "source": [
        "# the function we want to minimize\n",
        "def f(x):\n",
        "  return x**3 - 2*x - 5\n",
        "\n",
        "# our starting point\n",
        "x = torch.zeros(1).to(device)\n",
        "\n",
        "for i in range(20):\n",
        "  x = x.requires_grad_(True)  # we want to take gradients with respect to x\n",
        "\n",
        "  objective = f(x)            # compute the current objective\n",
        "  objective.backward()        # take the gradient of the objective with respect to all inputs\n",
        "  grad = x.grad.detach()      # get the value of the gradient with respect to x\n",
        "\n",
        "  print(f\"step {i}: f({x.item():.2f}) = {objective.item():.2f}\")\n",
        "\n",
        "  with torch.no_grad():\n",
        "    x = x - 0.05 * torch.sign(grad)  # take a gradient update step to minimize the objective\n",
        "    x = torch.clamp(x, -1, 1)        # ensure we stay in the allowed range"
      ],
      "metadata": {
        "colab": {
          "base_uri": "https://localhost:8080/"
        },
        "id": "tIsix6s_jmbN",
        "outputId": "f9e0132a-2dbb-4349-efa1-71cd39d09c4e"
      },
      "execution_count": null,
      "outputs": [
        {
          "output_type": "stream",
          "name": "stdout",
          "text": [
            "step 0: f(0.00) = -5.00\n",
            "step 1: f(0.05) = -5.10\n",
            "step 2: f(0.10) = -5.20\n",
            "step 3: f(0.15) = -5.30\n",
            "step 4: f(0.20) = -5.39\n",
            "step 5: f(0.25) = -5.48\n",
            "step 6: f(0.30) = -5.57\n",
            "step 7: f(0.35) = -5.66\n",
            "step 8: f(0.40) = -5.74\n",
            "step 9: f(0.45) = -5.81\n",
            "step 10: f(0.50) = -5.88\n",
            "step 11: f(0.55) = -5.93\n",
            "step 12: f(0.60) = -5.98\n",
            "step 13: f(0.65) = -6.03\n",
            "step 14: f(0.70) = -6.06\n",
            "step 15: f(0.75) = -6.08\n",
            "step 16: f(0.80) = -6.09\n",
            "step 17: f(0.85) = -6.09\n",
            "step 18: f(0.80) = -6.09\n",
            "step 19: f(0.85) = -6.09\n"
          ]
        }
      ]
    },
    {
      "cell_type": "markdown",
      "source": [
        "# 1.&nbsp;Targeted PGD attack on undefended ResNet-50\n",
        "\n",
        "We will first run a simple *targeted* PGD attack, where the goal is to get the model to misclassify an input `(x, y)` into a specific incorrect class `y'`.\n",
        "\n",
        "You can design your attack however you'd like, but we recommend first\n",
        "implementing a `project` method that projects an adversarial example\n",
        "onto the Lp ball centered at the original sample. It is customary to\n",
        "also ensure that the projected sample is in the valid range for an image (i.e.,\n",
        "all pixel values in [0, 255]).\n",
        "\n"
      ],
      "metadata": {
        "id": "HV7wnlsjNyYb"
      }
    },
    {
      "cell_type": "code",
      "source": [
        "class PGD(object):\n",
        "    \"\"\"\n",
        "    A targeted PGD attack in l_inf norm.\n",
        "    \"\"\"\n",
        "    def __init__(self, epsilon, clf, n_iter, alpha):\n",
        "        \"\"\"\n",
        "        :param epsilon: the maximum perturbation allowed\n",
        "        :param clf: the classifier to attack\n",
        "        \"\"\"\n",
        "        self.epsilon = epsilon\n",
        "        self.clf = clf\n",
        "        self.n_iter = n_iter\n",
        "        self.alpha = alpha\n",
        "\n",
        "    def project(self, x_adv, x_orig):\n",
        "        \"\"\"\n",
        "        Project x_adv onto the epsilon ball around x_orig.\n",
        "        :param x_adv: the adversarial images\n",
        "        :param x_orig: the clean images\n",
        "        :return: the adversarial images projected onto the epsilon ball, in the range [0, 255]\n",
        "        \"\"\"\n",
        "\n",
        "        x_adv = torch.clamp(x_adv, x_orig - self.epsilon, x_orig + self.epsilon)\n",
        "        x_adv = torch.clamp(x_adv, 0, 255)\n",
        "        return x_adv\n",
        "\n",
        "    def attack_batch(self, x, y_targets):\n",
        "        \"\"\"\n",
        "        Attack a batch of images with PGD.\n",
        "        :param x: the batch of images (torch tensors) to attack of size (batch_size, 3, 224, 224)\n",
        "        :param y_targets: the target labels of size (batch_size,)\n",
        "        :return: the adversarial images of size (batch_size, 3, 224, 224)\n",
        "        \"\"\"\n",
        "\n",
        "        x_adv = torch.clone(x)\n",
        "        loss_fn = torch.nn.CrossEntropyLoss()\n",
        "\n",
        "        for _ in range(self.n_iter) :\n",
        "\n",
        "            x_adv.requires_grad = True\n",
        "            outputs = self.clf.get_logits(x_adv)\n",
        "            loss = loss_fn(outputs, y_targets)\n",
        "            loss.backward()\n",
        "            grad = x_adv.grad.detach()\n",
        "\n",
        "            with torch.no_grad():\n",
        "              x_adv = x_adv - self.alpha * torch.sign(grad)\n",
        "              x_adv = self.project(x_adv, x)\n",
        "\n",
        "        return x_adv\n",
        "\n",
        "\n",
        "    def attack_all(self, images, labels, batch_size=20):\n",
        "        \"\"\"\n",
        "        A utility to attack all images in the dataset by batching.\n",
        "        :param images: the images to attack, of size (N, 3, 224, 224) in the range [0, 255]\n",
        "        :param labels: the target labels\n",
        "        :param batch_size: the batch size to use\n",
        "        :return: the adversarial images\n",
        "        \"\"\"\n",
        "        return utils.batched_func(self.attack_batch, inputs=(images, labels),\n",
        "                                  batch_size=batch_size,\n",
        "                                  device=self.clf.device)\n"
      ],
      "metadata": {
        "id": "bEsJ9nz_N11y"
      },
      "execution_count": 28,
      "outputs": []
    },
    {
      "cell_type": "code",
      "source": [
        "# load the defense\n",
        "resnet = defenses.ResNet(device)\n",
        "\n",
        "pgd = PGD(epsilon=EPSILON, clf=resnet, n_iter=25, alpha=0.1)\n",
        "x_adv = pgd.attack_all(ImageNet.clean_images, ImageNet.targets, batch_size=6)\n",
        "\n",
        "utils.save_images(os.path.join(RESULTS_PATH, \"x_adv_targeted.npy\"), x_adv)\n",
        "evaluation.eval_targeted_pgd(os.path.join(RESULTS_PATH, \"x_adv_targeted.npy\"), device);"
      ],
      "metadata": {
        "id": "JXOhojmqBNVp",
        "colab": {
          "base_uri": "https://localhost:8080/"
        },
        "outputId": "999dd2a3-d491-43ee-ce49-cf7979247756"
      },
      "execution_count": 6,
      "outputs": [
        {
          "output_type": "stream",
          "name": "stderr",
          "text": [
            "100%|██████████| 34/34 [00:56<00:00,  1.66s/it]\n"
          ]
        },
        {
          "output_type": "stream",
          "name": "stdout",
          "text": [
            "=== Evaluating targeted PGD ===\n",
            "\u001b[32m\tclean accuracy: 100.0%\u001b[0m\n",
            "\u001b[32m\tadv accuracy: 0.5% (target: ≤ 2.0%)\u001b[0m\n",
            "\u001b[32m\tadv target accuracy: 99.0% (target: ≥98.0%)\u001b[0m\n",
            "\u001b[32mSUCCESS\u001b[0m\n"
          ]
        }
      ]
    },
    {
      "cell_type": "code",
      "source": [
        "# you can visualize your attack samples as follows if this helps\n",
        "idx = 0\n",
        "input = torch.stack([x_adv[idx], ImageNet.clean_images[idx]]).to(device)\n",
        "logits = resnet.get_logits(input)\n",
        "utils.display(x_adv[idx], image_orig=ImageNet.clean_images[idx], logits=logits)"
      ],
      "metadata": {
        "id": "V0J7Anb0ani3",
        "colab": {
          "base_uri": "https://localhost:8080/",
          "height": 200
        },
        "outputId": "2b979040-7b85-438c-a20e-d1a5863b01b7"
      },
      "execution_count": 7,
      "outputs": [
        {
          "output_type": "display_data",
          "data": {
            "text/plain": [
              "<Figure size 640x480 with 3 Axes>"
            ],
            "image/png": "[encoded data removed]"
          },
          "metadata": {}
        }
      ]
    },
    {
      "cell_type": "markdown",
      "source": [
        "# 2.&nbsp;Evading Detection\n",
        "\n",
        "It turns out that \"naive\" adversarial examples are very easy to *detect*.\n",
        "So one could build a defense that aims to detect when an input has been perturbed, to reject it and raise an alarm.\n",
        "\n",
        "Unfortunately, as we'll see such defenses are hard to make robust against an *adaptive* attacker that also optimizes over the detector.\n",
        "\n",
        "You will now implement attacks against two detector defenses:\n",
        "\n",
        "<ul>\n",
        "  <li> 2.1. A detector using a standard neural network. </li>\n",
        "  <li> 2.2. A Random Forest detector </li>\n",
        "<ul>"
      ],
      "metadata": {
        "id": "m9myeLu4a5xB"
      }
    },
    {
      "cell_type": "code",
      "source": [
        "# Your previous attack is likely easily detected\n",
        "evaluation.eval_detector_attack(os.path.join(RESULTS_PATH, \"x_adv_targeted.npy\"), device=device);"
      ],
      "metadata": {
        "id": "wEsVJ2M3a5Ku",
        "colab": {
          "base_uri": "https://localhost:8080/"
        },
        "outputId": "51e18e25-4467-4a1d-abd5-1198ea2f35b1"
      },
      "execution_count": 8,
      "outputs": [
        {
          "output_type": "stream",
          "name": "stdout",
          "text": [
            "=== Evaluating targeted PGD with Neural Network Detector ===\n",
            "\u001b[32m\tclean accuracy: 100.0%\u001b[0m\n",
            "\u001b[32m\tadv accuracy: 0.5% (target: ≤ 2.0%)\u001b[0m\n",
            "\u001b[32m\tadv target accuracy: 99.0% (target: ≥98.0%)\u001b[0m\n",
            "\u001b[32m\tclean examples detected: 2.5% (target: ≤5.0%)\u001b[0m\n",
            "\u001b[31m\tadv examples detected: 56.0% (target: ≤1.0%)\u001b[0m\n",
            "\u001b[31mNOT THERE YET!\u001b[0m\n"
          ]
        }
      ]
    },
    {
      "cell_type": "markdown",
      "source": [
        "## 2.1&nbsp;Evading A Neural Network Detector\n",
        "\n",
        "We will first do a targeted attack against the `ResNetDetector` defense.\n",
        "This defense takes the standard `ResNet` classifier from before, and adds an additional detector network.\n",
        "\n",
        "The defense can be used for classification, in which case it outputs an array of scores for each of the 1000 classes, for each input:\n",
        "\n",
        "```\n",
        "resnet_det = ResNetDetector(device)\n",
        "resnet_det.get_logits(x) -> [N, 1000]\n",
        "```\n",
        "\n",
        "To obtain a detector, we trained a *binary* classifier that takes in an input and outputs binary logits for the task of distinguishing clean images (class 0) from adversarially perturbed ones (class 1):\n",
        "\n",
        "```\n",
        "resnet_det = ResNetDetector(device)\n",
        "resnet_det.get_detection_logits(x) -> [N, 2]\n",
        "```\n",
        "\n",
        "*(the classifier and detector actually share most of their implementation.\n",
        "The original ResNet classifier is of the form `g(f(x))` where `f` is a <u>feature extractor</u> that maps inputs to feature vectors, and `g` is a <u>linear layer</u> that maps a feature vector to a vector of 1000 class scores.\n",
        "The detector takes as input the same feature vector `f(x)`, and applies a different linear layer `g_det` that maps the features to a vector of 2 class scores.\n",
        "See `infoseclab.defenses.defense_detector.ResNetDetector` for details).*\n",
        "\n",
        "Note: You are allowed to use the `ResNetDetector` module in your attack, but you are not allowed to modify it."
      ],
      "metadata": {
        "id": "cpHESdu-h6bO"
      }
    },
    {
      "cell_type": "code",
      "source": [
        "class PGD_Det(PGD):\n",
        "    \"\"\"\n",
        "    A targeted PGD attack that also tries to evade detection.\n",
        "    \"\"\"\n",
        "\n",
        "    def __init__(self, epsilon, clf, n_iter, alpha):\n",
        "        \"\"\"\n",
        "        :param epsilon: the maximum perturbation allowed\n",
        "        :param clf: the classifier to attack\n",
        "        \"\"\"\n",
        "        super().__init__(epsilon, clf, n_iter, alpha)\n",
        "\n",
        "    def attack_batch(self, x, y_targets):\n",
        "        \"\"\"\n",
        "        Attack a batch of images with targeted PGD while also evading detection.\n",
        "        :param x: the batch of images (torch tensors) to attack of size (batch_size, 3, 224, 224)\n",
        "        :param y_targets: the target labels of size (batch_size,)\n",
        "        :return: the adversarial images of size (batch_size, 3, 224, 224)\n",
        "        \"\"\"\n",
        "\n",
        "        x_adv = torch.clone(x)\n",
        "        loss_fn = torch.nn.CrossEntropyLoss()\n",
        "\n",
        "        for _ in range(self.n_iter) :\n",
        "\n",
        "            x_adv.requires_grad = True\n",
        "\n",
        "            # Loss with respect to target labels\n",
        "            logits_clf = self.clf.get_logits(x_adv)\n",
        "            loss_clf = loss_fn(logits_clf, y_targets)\n",
        "\n",
        "            # Loss to maximize detection of image as \"clean\" (class 0). Class 1 is \"adversarial\"\n",
        "            logits_det = self.clf.get_detection_logits(x_adv)\n",
        "            loss_det = loss_fn(logits_det, torch.zeros_like(y_targets))\n",
        "\n",
        "            loss_clf.backward()\n",
        "            loss_det.backward()\n",
        "\n",
        "            grad = x_adv.grad.detach()\n",
        "\n",
        "            with torch.no_grad():\n",
        "              x_adv = x_adv - self.alpha * torch.sign(grad)\n",
        "              x_adv = self.project(x_adv, x)\n",
        "\n",
        "        return x_adv\n",
        "\n",
        "\n",
        "defense_det = defenses.ResNetDetector(device)\n",
        "pgd_det = PGD_Det(epsilon=EPSILON, clf=defense_det, n_iter=20, alpha=0.8)\n",
        "x_adv_det = pgd_det.attack_all(ImageNet.clean_images, ImageNet.targets, batch_size=6)\n",
        "\n",
        "utils.save_images(os.path.join(RESULTS_PATH, \"x_adv_detect.npy\"), x_adv_det)\n",
        "evaluation.eval_detector_attack(os.path.join(RESULTS_PATH, \"x_adv_detect.npy\"), device=device);"
      ],
      "metadata": {
        "id": "W7V6HnP5b4LR",
        "colab": {
          "base_uri": "https://localhost:8080/"
        },
        "outputId": "05a38ff3-5661-4d04-ccd9-b467f24905d2"
      },
      "execution_count": 9,
      "outputs": [
        {
          "output_type": "stream",
          "name": "stderr",
          "text": [
            "100%|██████████| 34/34 [01:30<00:00,  2.65s/it]\n"
          ]
        },
        {
          "output_type": "stream",
          "name": "stdout",
          "text": [
            "=== Evaluating targeted PGD with Neural Network Detector ===\n",
            "\u001b[32m\tclean accuracy: 100.0%\u001b[0m\n",
            "\u001b[32m\tadv accuracy: 0.0% (target: ≤ 2.0%)\u001b[0m\n",
            "\u001b[32m\tadv target accuracy: 100.0% (target: ≥98.0%)\u001b[0m\n",
            "\u001b[32m\tclean examples detected: 2.5% (target: ≤5.0%)\u001b[0m\n",
            "\u001b[32m\tadv examples detected: 0.0% (target: ≤1.0%)\u001b[0m\n",
            "\u001b[32mSUCCESS\u001b[0m\n"
          ]
        }
      ]
    },
    {
      "cell_type": "markdown",
      "source": [
        "## 2.2&nbsp;Evading a Random Forest Detector\n",
        "\n",
        "You will now try to attack a second detector defense.\n",
        "As with the previous defense, we first classify the input in a standard way using the ResNet50 model.\n",
        "\n",
        "But this time, the detector is an opaque \"Random Forest\" model that takes as\n",
        "input the features from the resnet model and outputs a decision.\n",
        "This is a discrete model (a Random Forest is a collection of decision trees) that cannot be easily differentiated. So you'll need\n",
        "a new strategy!\n",
        "\n",
        "**For this defense, your attack can be untargeted. That is, it suffices that the adversarial examples are classified into <i>any</i> incorrect class, as long as the detector doesn't flag the sample.**"
      ],
      "metadata": {
        "id": "eMlKoqzTcLNV"
      }
    },
    {
      "cell_type": "code",
      "source": [
        "''' [OLD] -- Code for HParams Tuning\n",
        "\n",
        "import itertools\n",
        "import warnings\n",
        "from sklearn.exceptions import ConvergenceWarning\n",
        "warnings.simplefilter(\"ignore\", category=ConvergenceWarning)\n",
        "warnings.simplefilter(\"ignore\", category=UserWarning)\n",
        "warnings.simplefilter(\"ignore\", category=FutureWarning)\n",
        "\n",
        "n_iters = [20, 25, 30, 35, 40, 45, 50, 55, 60]\n",
        "alphas = [0.01, 0.015, 0.02, 0.025, 0.03, 0.035, 0.04, 0.045, 0.05, 0.055, 0.06,\n",
        "          0.065, 0.07, 0.075, 0.08, 0.085, 0.09, 0.095, 0.1, 0.2, 0.3, 0.4, 0.5, 0.6, 0.7, 0.8]\n",
        "\n",
        "combinations = list(itertools.product(n_iters, alphas))\n",
        "\n",
        "\n",
        "for _n_iter, _alpha in combinations:\n",
        "\n",
        "    print(f\"Running with n_iter = {_n_iter} and alpha = {_alpha}\")\n",
        "\n",
        "    defense_det_rf = defenses.RFDetector(device)\n",
        "    pgd_det_rf = PGD_Det_RF(epsilon=EPSILON, clf=defense_det_rf, n_iter=_n_iter, alpha=_alpha, shift=1)\n",
        "    x_adv_det_rf = pgd_det_rf.attack_all(ImageNet.clean_images, ImageNet.labels, batch_size=6)\n",
        "\n",
        "    utils.save_images(os.path.join(RESULTS_PATH, \"x_adv_detect_rf.npy\"), x_adv_det_rf)\n",
        "    evaluation.eval_rf_detector_attack(os.path.join(RESULTS_PATH, \"x_adv_detect_rf.npy\"), device=device);\n",
        "'''"
      ],
      "metadata": {
        "id": "ESbhso9_Ay4R"
      },
      "execution_count": null,
      "outputs": []
    },
    {
      "cell_type": "code",
      "source": [
        "class PGD_Det_RF(PGD):\n",
        "    \"\"\"\n",
        "    A targeted PGD attack that also tries to evade detection with a random forest.\n",
        "    \"\"\"\n",
        "\n",
        "    def __init__(self, epsilon, clf, n_iter, alpha, shift, pert_red):\n",
        "        \"\"\"\n",
        "        :param epsilon: the maximum perturbation allowed\n",
        "        :param clf: the classifier to attack\n",
        "        \"\"\"\n",
        "        super().__init__(epsilon, clf, n_iter, alpha)\n",
        "        self.shift = shift\n",
        "        self.pert_red = pert_red\n",
        "\n",
        "    def attack_batch(self, x, y):\n",
        "        \"\"\"\n",
        "        Attack a batch of images with targeted PGD while also evading detection.\n",
        "        :param x: the batch of images (torch tensors) to attack of size (batch_size, 3, 224, 224)\n",
        "        :param y: the labels of size (batch_size,)\n",
        "        :return: the adversarial images of size (batch_size, 3, 224, 224)\n",
        "        \"\"\"\n",
        "\n",
        "        x_adv = torch.clone(x)\n",
        "        shifted_y = torch.cat((y[-self.shift:], y[:-self.shift]))\n",
        "        loss_fn = torch.nn.CrossEntropyLoss()\n",
        "\n",
        "        for _ in range(self.n_iter) :\n",
        "\n",
        "            x_adv.requires_grad = True\n",
        "            logits = self.clf.get_logits(x_adv)\n",
        "            loss = loss_fn(logits, shifted_y)\n",
        "            loss.backward()\n",
        "            grad = x_adv.grad.detach()\n",
        "\n",
        "            with torch.no_grad():\n",
        "              x_adv = x_adv - self.alpha * torch.sign(grad)\n",
        "              x_adv = self.project(x_adv, x)\n",
        "\n",
        "            detections = self.clf.detect(x_adv)\n",
        "            for idx, detection in enumerate(detections):\n",
        "                if detection.item() == 1:\n",
        "                    x_adv[idx] = x[idx] + (x_adv[idx] - x[idx]) * self.pert_red\n",
        "\n",
        "        return x_adv\n",
        "\n",
        "\n",
        "defense_det_rf = defenses.RFDetector(device)\n",
        "pgd_det_rf = PGD_Det_RF(epsilon=EPSILON, clf=defense_det_rf, n_iter=30, alpha=0.055, shift=1, pert_red=0.9)\n",
        "x_adv_det_rf = pgd_det_rf.attack_all(ImageNet.clean_images, ImageNet.labels, batch_size=6)\n",
        "\n",
        "utils.save_images(os.path.join(RESULTS_PATH, \"x_adv_detect_rf.npy\"), x_adv_det_rf)\n",
        "evaluation.eval_rf_detector_attack(os.path.join(RESULTS_PATH, \"x_adv_detect_rf.npy\"), device=device);"
      ],
      "metadata": {
        "id": "2FBBIk2YcAdg",
        "colab": {
          "base_uri": "https://localhost:8080/"
        },
        "outputId": "caf3cc2a-af4c-4f33-9a2c-083aed88f0f6"
      },
      "execution_count": 12,
      "outputs": [
        {
          "output_type": "stream",
          "name": "stderr",
          "text": [
            "100%|██████████| 34/34 [01:33<00:00,  2.75s/it]\n"
          ]
        },
        {
          "output_type": "stream",
          "name": "stdout",
          "text": [
            "=== Evaluating untargeted PGD with Random Forest Detector ===\n",
            "\u001b[32m\tclean accuracy: 100.0%\u001b[0m\n",
            "\u001b[32m\tadv accuracy: 1.5% (target: ≤ 2.0%)\u001b[0m\n",
            "\u001b[32m\tclean examples detected: 0.0% (target: ≤5.0%)\u001b[0m\n",
            "\u001b[32m\tadv examples detected: 0.5% (target: ≤1.0%)\u001b[0m\n",
            "\u001b[32mSUCCESS\u001b[0m\n"
          ]
        }
      ]
    },
    {
      "cell_type": "markdown",
      "source": [
        "#3.&nbsp; Preprocessing Defenses\n",
        "\n",
        "We are now going to look at two defenses against adversarial examples that aim to resist noise by *pre-processing* the input before classifying it.\n",
        "\n",
        "<ul>\n",
        "  <li> 3.1. Blurring </li>\n",
        "  <li> 3.2. Random cropping and noising </li>\n",
        "  <li> 3.3. Input discretization </li>\n",
        "<ul>"
      ],
      "metadata": {
        "id": "EdorMrPt-Vpf"
      }
    },
    {
      "cell_type": "markdown",
      "source": [
        "##3.1&nbsp; Blurring\n",
        "\n",
        "A natural defense idea is to try and remove the noise from adversarial images. A simple way of trying to do that is to add a blurring filter.\n",
        "\n",
        "The `ResNetBlur` defense implements this. Your goal is to create a targeted PGD attack that will defeat Blurring.\n",
        "You **don't** need to ensure that the attack stays undetected.\n",
        "\n",
        "The challenge you'll encounter is that the Blurring filter we use is not automatically differentiable. You'll likely need to find a way around that!"
      ],
      "metadata": {
        "id": "3y_q-ox3c_qb"
      }
    },
    {
      "cell_type": "code",
      "source": [
        "class PGD_Blur(PGD):\n",
        "    \"\"\"\n",
        "    A targeted PGD attack that tries to resist Blurring.\n",
        "    \"\"\"\n",
        "\n",
        "    def __init__(self, epsilon, clf, clf_base, n_iter, alpha):\n",
        "        \"\"\"\n",
        "        :param epsilon: the maximum perturbation allowed\n",
        "        :param clf: the classifier to attack\n",
        "        \"\"\"\n",
        "        super().__init__(epsilon, clf, n_iter, alpha)\n",
        "        self.clf_base = clf_base\n",
        "\n",
        "\n",
        "    def attack_batch(self, x, y_targets):\n",
        "        \"\"\"\n",
        "        Attack a batch of images with targeted PGD while also resisting JPEG compression.\n",
        "        :param x: the batch of images (torch tensors) to attack of size (batch_size, 3, 224, 224)\n",
        "        :param y_targets: the target labels of size (batch_size,)\n",
        "        :return: the adversarial images of size (batch_size, 3, 224, 224)\n",
        "        \"\"\"\n",
        "\n",
        "        x_adv = torch.clone(x)\n",
        "        loss_fn = torch.nn.CrossEntropyLoss()\n",
        "\n",
        "        for _ in range(self.n_iter):\n",
        "\n",
        "          x_adv = infoseclab.defenses.defense_blur.blur_images(x_adv)\n",
        "          x_adv = x_adv.requires_grad_(True)\n",
        "          logits = self.clf_base.get_logits(x_adv)\n",
        "          loss = loss_fn(logits, y_targets)\n",
        "          loss.backward()\n",
        "          grad = x_adv.grad.detach()\n",
        "\n",
        "          with torch.no_grad():\n",
        "            x_adv = x_adv - self.alpha * torch.sign(grad)\n",
        "            x_adv = self.project(x_adv, x)\n",
        "\n",
        "        return x_adv\n",
        "\n",
        "\n",
        "resnet = defenses.ResNet(device)\n",
        "defense_blur = defenses.ResNetBlur(device)\n",
        "pgd_blur = PGD_Blur(epsilon=EPSILON, clf=defense_blur, clf_base=resnet, n_iter=40, alpha=1)\n",
        "x_adv_blur = pgd_blur.attack_all(ImageNet.clean_images, ImageNet.targets, batch_size=6)\n",
        "\n",
        "utils.save_images(os.path.join(RESULTS_PATH, \"x_adv_blur.npy\"), x_adv_blur)\n",
        "evaluation.eval_blur_attack(os.path.join(RESULTS_PATH, \"x_adv_blur.npy\"), device);"
      ],
      "metadata": {
        "colab": {
          "base_uri": "https://localhost:8080/"
        },
        "id": "aZ-2g4WHSxYu",
        "outputId": "bac1c8c7-5524-4bb6-d66f-c8e3cb0342cf"
      },
      "execution_count": 13,
      "outputs": [
        {
          "output_type": "stream",
          "name": "stderr",
          "text": [
            "100%|██████████| 34/34 [03:48<00:00,  6.71s/it]\n"
          ]
        },
        {
          "output_type": "stream",
          "name": "stdout",
          "text": [
            "=== Evaluating targeted PGD on blurred defense ===\n",
            "\u001b[32m\tclean accuracy: 92.5%\u001b[0m\n",
            "\u001b[32m\tadv accuracy: 0.5% (target: ≤ 2.0%)\u001b[0m\n",
            "\u001b[32m\tadv target accuracy: 99.0% (target: ≥98.0%)\u001b[0m\n",
            "\u001b[32mSUCCESS\u001b[0m\n"
          ]
        }
      ]
    },
    {
      "cell_type": "markdown",
      "source": [
        "##3.2&nbsp; Randomized cropping and noising\n",
        "\n",
        "Another natural defense idea is to try and *randomize* the model's behavior to make it harder to create adversarial examples.\n",
        "\n",
        "The ResNetRandom defense implements this, by randomly cropping and noising input images before classifying them.\n",
        "\n",
        "Your goal is to create a targeted PGD attack that will defeat randomized pre-processing.\n",
        "In this part, you **don't** need to ensure that the attack stays undetected.\n",
        "\n",
        "**Note that since this defense is randomized, the evaluation results might vary slightly from one run to the next. To make sure that your attack passes our final evaluation, try to create an attack that has a few % of slack compared to the evaluation targets (e.g., if we target an adversarial accuracy below 5%, aim to ensure that your attack reaches ~3% or lower)**"
      ],
      "metadata": {
        "id": "ag6TwSfy_Y8Z"
      }
    },
    {
      "cell_type": "markdown",
      "source": [
        "**I ran the following attack 10 times to see if the randomized part was a problem for the final evaluation. Here the results:**\n",
        "\n",
        "\n",
        "*   1st run:\n",
        "\n",
        "100%|██████████| 34/34 [07:17<00:00, 12.86s/it]\n",
        "\n",
        "=== Evaluating targeted PGD on randomized defense ===\n",
        "\n",
        "\tclean accuracy: 91.5%\n",
        "\n",
        "\tadv accuracy: 0.0% (target: ≤ 2.0%)\n",
        "\n",
        "\tadv target accuracy: 99.5% (target: ≥98.0%)\n",
        "\n",
        "SUCCESS\n",
        "\n",
        "---\n",
        "\n",
        "\n",
        "*   2nd run:\n",
        "\n",
        "100%|██████████| 34/34 [07:16<00:00, 12.83s/it]\n",
        "\n",
        "=== Evaluating targeted PGD on randomized defense ===\n",
        "\n",
        "\tclean accuracy: 92.0%\n",
        "\n",
        "\tadv accuracy: 2.0% (target: ≤ 2.0%)\n",
        "\n",
        "\tadv target accuracy: 98.5% (target: ≥98.0%)\n",
        "\n",
        "SUCCESS\n",
        "\n",
        "\n",
        "---\n",
        "\n",
        "\n",
        "*   3rd run:\n",
        "\n",
        "100%|██████████| 34/34 [07:12<00:00, 12.71s/it]\n",
        "\n",
        "=== Evaluating targeted PGD on randomized defense ===\n",
        "\n",
        "\tclean accuracy: 93.5%\n",
        "\n",
        "\tadv accuracy: 0.5% (target: ≤ 2.0%)\n",
        "\n",
        "\tadv target accuracy: 98.5% (target: ≥98.0%)\n",
        "\n",
        "SUCCESS\n",
        "\n",
        "---\n",
        "\n",
        "*   4th run:\n",
        "\n",
        "100%|██████████| 34/34 [07:14<00:00, 12.78s/it]\n",
        "\n",
        "=== Evaluating targeted PGD on randomized defense ===\n",
        "\n",
        "\tclean accuracy: 94.5%\n",
        "\n",
        "\tadv accuracy: 0.0% (target: ≤ 2.0%)\n",
        "\n",
        "\tadv target accuracy: 99.5% (target: ≥98.0%)\n",
        "\n",
        "SUCCESS\n",
        "\n",
        "---\n",
        "\n",
        "*   5th run:\n",
        "\n",
        "100%|██████████| 34/34 [07:16<00:00, 12.84s/it]\n",
        "\n",
        "=== Evaluating targeted PGD on randomized defense ===\n",
        "\n",
        "\tclean accuracy: 91.0%\n",
        "\n",
        "\tadv accuracy: 0.5% (target: ≤ 2.0%)\n",
        "\n",
        "\tadv target accuracy: 98.5% (target: ≥98.0%)\n",
        "\n",
        "SUCCESS\n",
        "\n",
        "---\n",
        "\n",
        "*   6th run:\n",
        "\n",
        "100%|██████████| 34/34 [07:17<00:00, 12.85s/it]\n",
        "\n",
        "=== Evaluating targeted PGD on randomized defense ===\n",
        "\n",
        "\tclean accuracy: 93.0%\n",
        "\n",
        "\tadv accuracy: 1.0% (target: ≤ 2.0%)\n",
        "\n",
        "\tadv target accuracy: 98.5% (target: ≥98.0%)\n",
        "\n",
        "SUCCESS\n",
        "\n",
        "---\n",
        "\n",
        "*   7th run:\n",
        "\n",
        "100%|██████████| 34/34 [07:16<00:00, 12.83s/it]\n",
        "\n",
        "=== Evaluating targeted PGD on randomized defense ===\n",
        "\n",
        "\tclean accuracy: 92.0%\n",
        "\n",
        "\tadv accuracy: 1.5% (target: ≤ 2.0%)\n",
        "\n",
        "\tadv target accuracy: 97.5% (target: ≥98.0%)\n",
        "\n",
        "NOT THERE YET!\n",
        "\n",
        "---\n",
        "\n",
        "*   8th run:\n",
        "\n",
        "100%|██████████| 34/34 [07:16<00:00, 12.84s/it]\n",
        "\n",
        "=== Evaluating targeted PGD on randomized defense ===\n",
        "\n",
        "\tclean accuracy: 94.0%\n",
        "\n",
        "\tadv accuracy: 0.5% (target: ≤ 2.0%)\n",
        "\n",
        "\tadv target accuracy: 98.5% (target: ≥98.0%)\n",
        "\n",
        "SUCCESS\n",
        "\n",
        "---\n",
        "\n",
        "*   9th run:\n",
        "\n",
        "100%|██████████| 34/34 [07:34<00:00, 13.37s/it]\n",
        "\n",
        "=== Evaluating targeted PGD on randomized defense ===\n",
        "\n",
        "\tclean accuracy: 92.5%\n",
        "\n",
        "\tadv accuracy: 0.5% (target: ≤ 2.0%)\n",
        "\n",
        "\tadv target accuracy: 100.0% (target: ≥98.0%)\n",
        "\n",
        "SUCCESS\n",
        "\n",
        "---\n",
        "\n",
        "*   10th run:\n",
        "\n",
        "100%|██████████| 34/34 [07:34<00:00, 13.36s/it]\n",
        "\n",
        "=== Evaluating targeted PGD on randomized defense ===\n",
        "\n",
        "\tclean accuracy: 92.0%\n",
        "\n",
        "\tadv accuracy: 0.0% (target: ≤ 2.0%)\n",
        "\n",
        "\tadv target accuracy: 99.0% (target: ≥98.0%)\n",
        "\n",
        "SUCCESS\n",
        "\n",
        "---\n",
        "\n",
        "\n",
        "\n",
        "\n"
      ],
      "metadata": {
        "id": "BIf7wkPmII-y"
      }
    },
    {
      "cell_type": "code",
      "source": [
        "class PGD_Random(PGD):\n",
        "    \"\"\"\n",
        "    A PGD attack that also tries to resist random preprocessing.\n",
        "    \"\"\"\n",
        "\n",
        "    def __init__(self, epsilon, clf, n_iter, alpha, nsmpls):\n",
        "        super().__init__(epsilon, clf, n_iter, alpha)\n",
        "        self.n_samples = nsmpls\n",
        "\n",
        "    def attack_batch(self, x, y_targets):\n",
        "        \"\"\"\n",
        "        Attack a batch of images with targeted PGD while also evading random preprocessing.\n",
        "        :param x: the batch of images (torch tensors) to attack of size (batch_size, 3, 224, 224)\n",
        "        :param y_targets: the target labels of size (batch_size,)\n",
        "        :return: the adversarial images of size (batch_size, 3, 224, 224)\n",
        "        \"\"\"\n",
        "\n",
        "        x_adv = torch.clone(x)\n",
        "        loss_fn = torch.nn.CrossEntropyLoss()\n",
        "\n",
        "        for _ in range(self.n_iter):\n",
        "\n",
        "            x_adv.requires_grad_(True)\n",
        "            loss = 0\n",
        "\n",
        "            for _ in range(self.n_samples):\n",
        "              logits = self.clf.get_logits(x_adv)\n",
        "              loss = loss + loss_fn(logits, y_targets)\n",
        "\n",
        "            loss = loss / self.n_samples\n",
        "            loss.backward()\n",
        "\n",
        "            grad = x_adv.grad.detach()\n",
        "\n",
        "            with torch.no_grad():\n",
        "                x_adv -= self.alpha * torch.sign(grad)\n",
        "                x_adv = self.project(x_adv, x)\n",
        "\n",
        "        return x_adv.detach()\n",
        "\n",
        "\n",
        "defense_random = defenses.ResNetRandom(device)\n",
        "pgd_random = PGD_Random(epsilon=EPSILON, clf=defense_random, n_iter=20, alpha=3.5, nsmpls=10)\n",
        "x_adv_random = pgd_random.attack_all(ImageNet.clean_images, ImageNet.targets, batch_size=6)\n",
        "\n",
        "utils.save_images(os.path.join(RESULTS_PATH, \"x_adv_random.npy\"), x_adv_random)\n",
        "evaluation.eval_random_attack(os.path.join(RESULTS_PATH, \"x_adv_random.npy\"), device);"
      ],
      "metadata": {
        "id": "sH64CeqCAzFC",
        "colab": {
          "base_uri": "https://localhost:8080/"
        },
        "outputId": "90228f6e-9bfb-4f3a-fbe9-9804db95bf5a"
      },
      "execution_count": 20,
      "outputs": [
        {
          "output_type": "stream",
          "name": "stderr",
          "text": [
            "100%|██████████| 34/34 [07:30<00:00, 13.24s/it]\n"
          ]
        },
        {
          "output_type": "stream",
          "name": "stdout",
          "text": [
            "=== Evaluating targeted PGD on randomized defense ===\n",
            "\u001b[32m\tclean accuracy: 91.5%\u001b[0m\n",
            "\u001b[32m\tadv accuracy: 0.0% (target: ≤ 2.0%)\u001b[0m\n",
            "\u001b[32m\tadv target accuracy: 99.5% (target: ≥98.0%)\u001b[0m\n",
            "\u001b[32mSUCCESS\u001b[0m\n"
          ]
        }
      ]
    },
    {
      "cell_type": "markdown",
      "source": [
        "##3.3&nbsp; Discretized inputs\n",
        "\n",
        "This final defense does something a bit crazy to make it hard for you to compute gradients (a lot of proposed defenses against adversarial examples used to do this, but none of them work...)\n",
        "\n",
        "This defense discretizes the model's inputs as follows: each pixel (in the range [0, 1]) is mapped to an array of 20 binary \"buckets\", where the i-th bucket is set if the input pixel is greater than i/20. So for example we encode `0.0` as `[0 0 0 0 0 ... 0]`, `0.1` as `[1 1 0 0 ... 0]` and `1.0` as `[1 1 1 1 1 ... 1]`.\n",
        "\n",
        "See the `ResNetDiscrete` defense for the implementation of this encoding.\n",
        "\n",
        "The encoded inputs are then fed into a ResNet-style model (which was modified to take in inputs with `3*20` pixel channels instead of `3`).\n",
        "\n",
        "Your goal is to create targeted adversarial examples that break this defense."
      ],
      "metadata": {
        "id": "8IqqopaZfTdS"
      }
    },
    {
      "cell_type": "code",
      "source": [
        "class PGD_Discrete(PGD):\n",
        "    \"\"\"\n",
        "    A PGD attack that also tries to resist input discretization.\n",
        "    \"\"\"\n",
        "\n",
        "    def __init__(self, epsilon, clf, n_iter, alpha):\n",
        "        super().__init__(epsilon, clf, n_iter, alpha)\n",
        "\n",
        "    def decode(self, x, batch_size=6):\n",
        "\n",
        "      if (x.size(0) == 6):\n",
        "        x_reshaped = x.view(batch_size, 3, 20, 224, 224)\n",
        "      else:\n",
        "        x_reshaped = x.view(2, 3, 20, 224, 224)\n",
        "\n",
        "      return x_reshaped.sum(dim=2)/20\n",
        "\n",
        "    def attack_batch(self, x, y_targets):\n",
        "        \"\"\"\n",
        "        Attack a batch of images with targeted PGD while also evading random preprocessing.\n",
        "        :param x: the batch of images (torch tensors) to attack of size (batch_size, 3, 224, 224)\n",
        "        :param y_targets: the target labels of size (batch_size,)\n",
        "        :return: the adversarial images of size (batch_size, 3, 224, 224)\n",
        "        \"\"\"\n",
        "\n",
        "        x_adv = torch.clone(x)\n",
        "        x_encode = self.clf.encode(x_adv/255.0)\n",
        "        loss_fn = torch.nn.CrossEntropyLoss()\n",
        "\n",
        "        for _ in range(self.n_iter):\n",
        "\n",
        "          x_encode = self.clf.encode(x_adv/255.0)\n",
        "          x_encode.requires_grad = True\n",
        "\n",
        "          logits = self.clf.model(x_encode)\n",
        "\n",
        "          loss = loss_fn(logits, y_targets)\n",
        "          loss.backward()\n",
        "\n",
        "          grad = x_encode.grad.detach()\n",
        "\n",
        "          with torch.no_grad():\n",
        "            x_adv = x_adv - self.alpha * torch.sign(self.decode(grad))\n",
        "            x_adv = self.project(x_adv, x)\n",
        "\n",
        "        return x_adv\n",
        "\n",
        "\n",
        "defense = defenses.ResNetDiscrete(device)\n",
        "pgd_discrete = PGD_Discrete(epsilon=EPSILON, clf=defense, n_iter=20, alpha=3)\n",
        "x_adv_discrete = pgd_discrete.attack_all(ImageNet.clean_images, ImageNet.targets, batch_size=6)\n",
        "\n",
        "utils.save_images(os.path.join(RESULTS_PATH, \"x_adv_discrete.npy\"), x_adv_discrete)\n",
        "evaluation.eval_discrete_attack(os.path.join(RESULTS_PATH, \"x_adv_discrete.npy\"), device);"
      ],
      "metadata": {
        "colab": {
          "base_uri": "https://localhost:8080/"
        },
        "id": "E-K6Bx43pKFw",
        "outputId": "eae1c072-d579-4ebe-b8d5-f17f5d0a8ed0"
      },
      "execution_count": 32,
      "outputs": [
        {
          "output_type": "stream",
          "name": "stderr",
          "text": [
            "100%|██████████| 34/34 [00:46<00:00,  1.36s/it]\n"
          ]
        },
        {
          "output_type": "stream",
          "name": "stdout",
          "text": [
            "=== Evaluating targeted PGD on discretized defense ===\n",
            "\u001b[32m\tclean accuracy: 80.5%\u001b[0m\n",
            "\u001b[32m\tadv accuracy: 1.5% (target: ≤ 3.0%)\u001b[0m\n",
            "\u001b[32m\tadv target accuracy: 96.5% (target: ≥96.0%)\u001b[0m\n",
            "\u001b[32mSUCCESS\u001b[0m\n"
          ]
        }
      ]
    },
    {
      "cell_type": "markdown",
      "source": [
        "# Create submission file (**upload `results1.zip` to moodle**)"
      ],
      "metadata": {
        "id": "9_Cmw-Qj8mLe"
      }
    },
    {
      "cell_type": "code",
      "source": [
        "!zip -j -FSr \"{RESULTS_PATH}/results1.zip\" {RESULTS_PATH}"
      ],
      "metadata": {
        "id": "197yEKu1J_-l",
        "colab": {
          "base_uri": "https://localhost:8080/"
        },
        "outputId": "dacb6152-8352-4e79-fbc0-29d2054600cb"
      },
      "execution_count": 39,
      "outputs": [
        {
          "output_type": "stream",
          "name": "stdout",
          "text": [
            "  adding: x_adv_targeted.npy (deflated 17%)\n",
            "  adding: x_adv_detect.npy (deflated 11%)\n",
            "  adding: x_adv_detect_rf.npy (deflated 17%)\n",
            "  adding: x_adv_blur.npy (deflated 24%)\n",
            "  adding: x_adv_random.npy (deflated 11%)\n",
            "  adding: x_adv_discrete.npy (deflated 10%)\n"
          ]
        }
      ]
    },
    {
      "cell_type": "code",
      "source": [
        "from infoseclab.evaluation import eval_targeted_pgd, eval_detector_attack, eval_rf_detector_attack, eval_blur_attack, eval_random_attack, eval_discrete_attack\n",
        "from infoseclab.submission import validate_zip1\n",
        "\n",
        "assert validate_zip1(f\"{RESULTS_PATH}/results1.zip\")\n",
        "\n",
        "with ZipFile(f\"{RESULTS_PATH}/results1.zip\", 'r') as zip:\n",
        "    _ = eval_targeted_pgd(path=zip.open(\"x_adv_targeted.npy\"), device=device)\n",
        "    _ = eval_detector_attack(path=zip.open(\"x_adv_detect.npy\"), device=device)\n",
        "    _ = eval_rf_detector_attack(path=zip.open(\"x_adv_detect_rf.npy\"), device=device)\n",
        "    _ = eval_blur_attack(path=zip.open(\"x_adv_blur.npy\"), device=device)\n",
        "    _ = eval_random_attack(path=zip.open(\"x_adv_random.npy\"), device=device)\n",
        "    _ = eval_discrete_attack(path=zip.open(\"x_adv_discrete.npy\"), device=device)"
      ],
      "metadata": {
        "id": "yW3j3t9y9ZVO",
        "colab": {
          "base_uri": "https://localhost:8080/"
        },
        "outputId": "67c87fe4-5aca-451c-d04c-571c331d7a26"
      },
      "execution_count": 40,
      "outputs": [
        {
          "output_type": "stream",
          "name": "stdout",
          "text": [
            "Zip file is valid\n",
            "=== Evaluating targeted PGD ===\n",
            "\u001b[32m\tclean accuracy: 100.0%\u001b[0m\n",
            "\u001b[32m\tadv accuracy: 0.5% (target: ≤ 2.0%)\u001b[0m\n",
            "\u001b[32m\tadv target accuracy: 99.0% (target: ≥98.0%)\u001b[0m\n",
            "\u001b[32mSUCCESS\u001b[0m\n",
            "=== Evaluating targeted PGD with Neural Network Detector ===\n",
            "\u001b[32m\tclean accuracy: 100.0%\u001b[0m\n",
            "\u001b[32m\tadv accuracy: 0.0% (target: ≤ 2.0%)\u001b[0m\n",
            "\u001b[32m\tadv target accuracy: 100.0% (target: ≥98.0%)\u001b[0m\n",
            "\u001b[32m\tclean examples detected: 2.5% (target: ≤5.0%)\u001b[0m\n",
            "\u001b[32m\tadv examples detected: 0.0% (target: ≤1.0%)\u001b[0m\n",
            "\u001b[32mSUCCESS\u001b[0m\n",
            "=== Evaluating untargeted PGD with Random Forest Detector ===\n",
            "\u001b[32m\tclean accuracy: 100.0%\u001b[0m\n",
            "\u001b[32m\tadv accuracy: 1.5% (target: ≤ 2.0%)\u001b[0m\n",
            "\u001b[32m\tclean examples detected: 0.0% (target: ≤5.0%)\u001b[0m\n",
            "\u001b[32m\tadv examples detected: 0.5% (target: ≤1.0%)\u001b[0m\n",
            "\u001b[32mSUCCESS\u001b[0m\n",
            "=== Evaluating targeted PGD on blurred defense ===\n",
            "\u001b[32m\tclean accuracy: 92.5%\u001b[0m\n",
            "\u001b[32m\tadv accuracy: 0.5% (target: ≤ 2.0%)\u001b[0m\n",
            "\u001b[32m\tadv target accuracy: 99.0% (target: ≥98.0%)\u001b[0m\n",
            "\u001b[32mSUCCESS\u001b[0m\n",
            "=== Evaluating targeted PGD on randomized defense ===\n",
            "\u001b[32m\tclean accuracy: 91.5%\u001b[0m\n",
            "\u001b[32m\tadv accuracy: 0.5% (target: ≤ 2.0%)\u001b[0m\n",
            "\u001b[32m\tadv target accuracy: 99.5% (target: ≥98.0%)\u001b[0m\n",
            "\u001b[32mSUCCESS\u001b[0m\n",
            "=== Evaluating targeted PGD on discretized defense ===\n",
            "\u001b[32m\tclean accuracy: 80.5%\u001b[0m\n",
            "\u001b[32m\tadv accuracy: 1.5% (target: ≤ 3.0%)\u001b[0m\n",
            "\u001b[32m\tadv target accuracy: 96.5% (target: ≥96.0%)\u001b[0m\n",
            "\u001b[32mSUCCESS\u001b[0m\n"
          ]
        }
      ]
    },
    {
      "cell_type": "code",
      "source": [],
      "metadata": {
        "id": "XETW3xg_aq0E"
      },
      "execution_count": null,
      "outputs": []
    }
  ]
}