{
  "cells": [
    {
      "cell_type": "code",
      "execution_count": 1,
      "metadata": {
        "colab": {
          "base_uri": "https://localhost:8080/"
        },
        "id": "mFCB4Sp6r1Yp",
        "outputId": "a049bf1d-070c-4451-9397-da264f11a165"
      },
      "outputs": [
        {
          "name": "stdout",
          "output_type": "stream",
          "text": [
            "Drive already mounted at /content/drive; to attempt to forcibly remount, call drive.mount(\"/content/drive\", force_remount=True).\n"
          ]
        }
      ],
      "source": [
        "use_gdrive = True # @param {type:\"boolean\"}\n",
        "\n",
        "RESULTS_PATH = \"results2\"\n",
        "\n",
        "if use_gdrive:\n",
        "  try:\n",
        "    # mount your google drive to get permanent storage for your results\n",
        "    from google.colab import drive\n",
        "    drive.mount('/content/drive')\n",
        "\n",
        "    RESULTS_PATH = \"/content/drive/MyDrive/infoseclab23/results2\"\n",
        "  except ModuleNotFoundError:\n",
        "    print(\"failed to mount gdrive\")\n",
        "else:\n",
        "  print(f\"saving results to '{RESULTS_PATH}'. If you're using Google Colab, this folder will be deleted when you disconnect!\")\n",
        "\n",
        "!mkdir -p {RESULTS_PATH}"
      ]
    },
    {
      "cell_type": "code",
      "execution_count": 2,
      "metadata": {
        "colab": {
          "base_uri": "https://localhost:8080/"
        },
        "id": "SwaKfoJ3r771",
        "outputId": "0dd2ba2d-92fe-4e9b-b314-b32072f2352b"
      },
      "outputs": [
        {
          "name": "stdout",
          "output_type": "stream",
          "text": [
            "/content/infoseclab_23\n",
            "From https://github.com/ethz-spylab/infoseclab_23\n",
            " * branch            HEAD       -> FETCH_HEAD\n",
            "Already up to date.\n",
            "/content\n"
          ]
        }
      ],
      "source": [
        "import sys\n",
        "\n",
        "# Lab files\n",
        "![ ! -d 'infoseclab_23' ] && git clone https://github.com/ethz-spylab/infoseclab_23.git\n",
        "%cd infoseclab_23\n",
        "!git pull https://github.com/ethz-spylab/infoseclab_23.git\n",
        "%cd ..\n",
        "if \"infoseclab_23\" not in sys.path:\n",
        "  sys.path.append(\"infoseclab_23\")"
      ]
    },
    {
      "cell_type": "markdown",
      "metadata": {
        "id": "3v3KTaJ2r__h"
      },
      "source": [
        "# Imports"
      ]
    },
    {
      "cell_type": "code",
      "execution_count": 3,
      "metadata": {
        "id": "lv6zjpbxsB20"
      },
      "outputs": [],
      "source": [
        "import infoseclab\n",
        "from infoseclab import ShadowModels, utils, evaluation\n",
        "import matplotlib.pyplot as plt\n",
        "import numpy as np\n",
        "import os\n",
        "import pathlib\n",
        "import scipy\n",
        "import sklearn\n",
        "import warnings\n",
        "from zipfile import ZipFile"
      ]
    },
    {
      "cell_type": "markdown",
      "metadata": {
        "id": "2ig2TBGUw2om"
      },
      "source": [
        "# Membership Inference\n",
        "\n",
        "In this part of the lab, you will create a membership inference attack, with a twist:\n",
        "you do not know which shadow models were trained on which samples.\n",
        "\n",
        "First, load the predictions."
      ]
    },
    {
      "cell_type": "code",
      "execution_count": 4,
      "metadata": {
        "id": "5zEEEqn8w7Sg"
      },
      "outputs": [],
      "source": [
        "# Load data\n",
        "activations_fit = ShadowModels.activations_fit        # pre-softmax activations from shadow models to construct your attack (50000 x 127 x 10)\n",
        "activations_attack = ShadowModels.activations_attack  # pre-softmax activations from the target model to attack (50000 x 10)\n",
        "labels = ShadowModels.labels                          # the class labels of all samples (50000)\n",
        "training_splits = ShadowModels.training_splits        # train-test vector; -1 for test samples, 1/0 (member/non-member) for training samples (50000)\n",
        "\n",
        "num_samples, num_models, num_classes = activations_fit.shape\n",
        "assert activations_attack.shape == (num_samples, num_classes)\n",
        "assert labels.shape == (num_samples,)\n",
        "assert training_splits.shape == (num_samples,)\n",
        "\n",
        "# Mask that is True for all samples with a known target membership label\n",
        "training_mask = (training_splits != -1)\n"
      ]
    },
    {
      "cell_type": "markdown",
      "metadata": {
        "id": "cVWhkiLg9cjH"
      },
      "source": [
        "**Implement your membership inference attack in the following cell.**\n",
        "\n",
        "Remember that your output should be a NumPy array\n",
        "containing attack scores for *all* samples,\n",
        "but we only consider samples where the corresponding `training_mask` entry\n",
        "is `False` for grading.\n",
        "\n",
        "The following code performs a dummy attack that ignores all shadow model outputs."
      ]
    },
    {
      "cell_type": "code",
      "execution_count": 5,
      "metadata": {
        "id": "N7xEiCqBmu_j"
      },
      "outputs": [],
      "source": [
        "# Imports\n",
        "import copy\n",
        "import numpy as np\n",
        "from scipy.special import logsumexp\n",
        "from sklearn.mixture import GaussianMixture\n",
        "from scipy.stats import norm"
      ]
    },
    {
      "cell_type": "code",
      "execution_count": 6,
      "metadata": {
        "id": "jiZ8t7Sgm-5q"
      },
      "outputs": [],
      "source": [
        "# Utils\n",
        "row_indeces = np.arange(50000)\n",
        "column_indeces = copy.deepcopy(labels)\n",
        "IN_mask = np.where(training_splits == 1, True, False)\n",
        "OUT_mask = np.where(training_splits == 0, True, False)"
      ]
    },
    {
      "cell_type": "code",
      "execution_count": 7,
      "metadata": {
        "id": "SYuQC57T0S1X"
      },
      "outputs": [],
      "source": [
        "# Classes\n",
        "# From Sci-kit Learn documentation\n",
        "# covariance_type{'full', 'tied', 'diag', 'spherical'}, default='full'\n",
        "# init_params{'kmeans', 'k-means++', 'random', 'random_from_data'}, default='kmeans'\n",
        "class GaussianMixtureModel:\n",
        "    def __init__(self, n_components=2, random_state=42, covariance_type='tied', init_params='k-means++'):\n",
        "        self.n_components = n_components\n",
        "        self.random_state = random_state\n",
        "        self.covariance_type = covariance_type\n",
        "        self.init_params = init_params\n",
        "        self.model = None\n",
        "        self.mmidx = None\n",
        "\n",
        "    def fit(self, X):\n",
        "        self.model = GaussianMixture(n_components=self.n_components, random_state=self.random_state,\n",
        "                                     covariance_type=self.covariance_type, init_params=self.init_params).fit(X)\n",
        "        self.mmidx = np.argmax(self.model.means_)\n",
        "        return self\n",
        "\n",
        "    def compute_likelihoods(self, X):\n",
        "        likelihoods = list()\n",
        "        for i in range(0, self.n_components):\n",
        "            likelihood = norm.pdf(X, self.model.means_[i], np.sqrt(self.model.covariances_.item((0,0)))).flatten()\n",
        "            likelihoods.append(likelihood)\n",
        "        return likelihoods\n",
        "\n",
        "\n",
        "class LikelihoodRatioCalculator:\n",
        "    def __init__(self):\n",
        "        self.likelihood_ratios = list()\n",
        "\n",
        "    def calculate_ratio(self, likelihoods, mmidx):\n",
        "        likelihood_ratio = likelihoods[mmidx] / (likelihoods[1 - mmidx] + 1e-10)\n",
        "        self.likelihood_ratios.append(likelihood_ratio)\n",
        "\n",
        "    def get_ratios(self):\n",
        "        return np.array(self.likelihood_ratios)\n",
        "\n",
        "\n",
        "class GaussianMixtureAnalyzer:\n",
        "    def __init__(self, logit_scores_shadow, logit_scores_attack):\n",
        "        self.logit_scores_shadow = logit_scores_shadow\n",
        "        self.logit_scores_attack = logit_scores_attack\n",
        "        self.gmm = GaussianMixtureModel()\n",
        "        self.likelihood_ratio_calculator = LikelihoodRatioCalculator()\n",
        "\n",
        "    def analyze(self):\n",
        "        for i in range(0, self.logit_scores_shadow.shape[0]):\n",
        "            self.gmm.fit(self.logit_scores_shadow[i, :].reshape(-1, 1))\n",
        "            likelihoods = self.gmm.compute_likelihoods(self.logit_scores_attack[i])\n",
        "            self.likelihood_ratio_calculator.calculate_ratio(likelihoods, self.gmm.mmidx)\n",
        "        return self.likelihood_ratio_calculator.get_ratios()"
      ]
    },
    {
      "cell_type": "code",
      "execution_count": 8,
      "metadata": {
        "id": "D1IOuNPhmwF0"
      },
      "outputs": [],
      "source": [
        "# Functions\n",
        "def target_logit_scale(activations, labels):\n",
        "    z1 = activations[np.arange(activations.shape[0]), labels]\n",
        "    z2 = activations.copy()\n",
        "    z2[np.arange(activations.shape[0]), labels] = -np.inf\n",
        "    logit_scores = z1 - logsumexp(z2, axis=1)\n",
        "    return logit_scores\n",
        "\n",
        "\n",
        "def fit_logit_scale(pre_softmax_activations, class_labels):\n",
        "    samples, sequences, classes = pre_softmax_activations.shape\n",
        "    broadcasted_labels = np.broadcast_to(class_labels[:, None], (samples, sequences))\n",
        "    mask = np.ones_like(pre_softmax_activations, dtype=bool)\n",
        "    mask[np.arange(samples)[:, None], np.arange(sequences), broadcasted_labels] = False\n",
        "    modified_activations = np.where(mask, pre_softmax_activations, -np.inf)\n",
        "    log_sum_exp = logsumexp(modified_activations, axis=2)\n",
        "    target_class_activations = pre_softmax_activations[np.arange(samples)[:, None], np.arange(sequences), broadcasted_labels]\n",
        "    logit_scores = target_class_activations - log_sum_exp\n",
        "    return logit_scores\n"
      ]
    },
    {
      "cell_type": "code",
      "execution_count": 9,
      "metadata": {
        "id": "BcugQDHLma8a"
      },
      "outputs": [],
      "source": [
        "# Step1: Extracts the pre-softmax scores of the target class for each sample in the activations_attack array\n",
        "activations_attack_target = activations_attack[row_indeces, column_indeces]"
      ]
    },
    {
      "cell_type": "code",
      "execution_count": 10,
      "metadata": {
        "id": "LCkiRO2Zma-Z"
      },
      "outputs": [],
      "source": [
        "# Step2: Extract the pre-softmax scores for the IN and OUT samples\n",
        "IN_activations_attack_target = activations_attack_target[IN_mask]\n",
        "OUT_activations_attack_target = activations_attack_target[OUT_mask]"
      ]
    },
    {
      "cell_type": "code",
      "execution_count": 11,
      "metadata": {
        "id": "f75dz4k2mbBF"
      },
      "outputs": [],
      "source": [
        "# Step3: Logit rescaling to facilitate the normal distribution fits\n",
        "logit_scaled_activations_attack_target = target_logit_scale(activations_attack, labels)\n",
        "logit_scaled_activations_fit = fit_logit_scale(activations_fit, labels)"
      ]
    },
    {
      "cell_type": "code",
      "execution_count": 13,
      "metadata": {
        "id": "ot4AfeZo0ZHL"
      },
      "outputs": [],
      "source": [
        "# Step4: Compute the likelihood ratios\n",
        "analyzer = GaussianMixtureAnalyzer(logit_scaled_activations_fit, logit_scaled_activations_attack_target)\n",
        "likelihood_ratios = analyzer.analyze()"
      ]
    },
    {
      "cell_type": "code",
      "execution_count": 15,
      "metadata": {
        "colab": {
          "base_uri": "https://localhost:8080/",
          "height": 480
        },
        "id": "sFoVlijYq5uS",
        "outputId": "afda0043-7e4a-4be5-ce9c-d74f1d4dec2d"
      },
      "outputs": [
        {
          "name": "stdout",
          "output_type": "stream",
          "text": [
            "GMM Attack TPR @ FPR 1.00%: 12.29%\n"
          ]
        },
        {
          "data": {
            "image/png": "[encoded data removed]",
            "text/plain": [
              "<Figure size 640x480 with 1 Axes>"
            ]
          },
          "metadata": {},
          "output_type": "display_data"
        }
      ],
      "source": [
        "# Step5: Save and see the results\n",
        "attack_scores = copy.deepcopy(likelihood_ratios.flatten()).astype(np.float32)\n",
        "utils.save_attack_scores(os.path.join(RESULTS_PATH, \"attack_scores.npy\"), attack_scores)\n",
        "\n",
        "fig, ax = plt.subplots()\n",
        "evaluation.eval_mia(\n",
        "    true_splits=training_splits[training_mask],\n",
        "    attack_scores=attack_scores[training_mask],\n",
        "    ax=ax,\n",
        "    label=\"GMM Attack\",\n",
        "    plot_decorations=True,\n",
        ")\n",
        "plt.show(fig)\n",
        "plt.close(fig)"
      ]
    },
    {
      "cell_type": "markdown",
      "metadata": {
        "id": "_bpW775c7RXy"
      },
      "source": [
        "# Stealing Chatbot Prompts\n",
        "\n",
        "Enter results for the chatbot secret extraction"
      ]
    },
    {
      "cell_type": "code",
      "execution_count": 16,
      "metadata": {
        "id": "W-mTLK627PsK"
      },
      "outputs": [],
      "source": [
        "# Enter your 10 extracted secrets, 6 alphanumeric characters each\n",
        "secrets = [\n",
        "    \"TIOsxG\",\n",
        "    \"ur71Ct\",\n",
        "    \"x7yQxM\",\n",
        "    \"3PiGUk\",\n",
        "    \"TZoP2i\",\n",
        "    \"NofQK8\",\n",
        "    \"6gTiO0\",\n",
        "    \"pss410\",\n",
        "    \"j7xE6h\",\n",
        "    \"hmaPiB\"\n",
        "]\n",
        "\n",
        "# save the secrets to an array and save it to chatbot.npy\n",
        "secrets = np.array(secrets)\n",
        "assert len(secrets) == 10\n",
        "np.save(f\"{RESULTS_PATH}/chatbot.npy\", secrets)"
      ]
    },
    {
      "cell_type": "markdown",
      "metadata": {
        "id": "gjRRxPXqsGWk"
      },
      "source": [
        "# Create submission file (**upload `results2.zip` to moodle**)"
      ]
    },
    {
      "cell_type": "code",
      "execution_count": 17,
      "metadata": {
        "colab": {
          "base_uri": "https://localhost:8080/"
        },
        "id": "qRK9S_o26CY9",
        "outputId": "95031b78-80d5-462d-beee-d274dc07904a"
      },
      "outputs": [
        {
          "name": "stdout",
          "output_type": "stream",
          "text": [
            "  adding: attack_scores.npy (deflated 27%)\n",
            "  adding: chatbot.npy (deflated 52%)\n"
          ]
        }
      ],
      "source": [
        "!zip -j -FSr \"{RESULTS_PATH}/results2.zip\" {RESULTS_PATH}"
      ]
    },
    {
      "cell_type": "code",
      "execution_count": 18,
      "metadata": {
        "colab": {
          "base_uri": "https://localhost:8080/"
        },
        "id": "ADYA5ufh6ir_",
        "outputId": "bf836d33-8551-4941-9047-187d8e1cf78c"
      },
      "outputs": [
        {
          "name": "stdout",
          "output_type": "stream",
          "text": [
            "Zip file is valid\n"
          ]
        }
      ],
      "source": [
        "from infoseclab.submission import validate_zip2\n",
        "assert validate_zip2(f\"{RESULTS_PATH}/results2.zip\")"
      ]
    },
    {
      "cell_type": "code",
      "execution_count": null,
      "metadata": {
        "id": "BhKr0CfdANiL"
      },
      "outputs": [],
      "source": []
    }
  ],
  "metadata": {
    "colab": {
      "provenance": []
    },
    "kernelspec": {
      "display_name": "Python 3",
      "name": "python3"
    },
    "language_info": {
      "name": "python"
    }
  },
  "nbformat": 4,
  "nbformat_minor": 0
}
